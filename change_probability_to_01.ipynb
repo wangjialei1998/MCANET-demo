{
 "cells": [
  {
   "cell_type": "code",
   "execution_count": 61,
   "metadata": {},
   "outputs": [],
   "source": [
    "import pandas as pd\n",
    "import numpy as np\n",
    "data=pd.read_csv('/disk1/wangjialei/research/odir_main/test.csv')\n",
    "data_gt=pd.read_csv('/disk1/wangjialei/research/odir_main/off_site_test_annotation_(English)_single_for_submit.csv')"
   ]
  },
  {
   "cell_type": "code",
   "execution_count": 3,
   "metadata": {},
   "outputs": [
    {
     "name": "stdout",
     "output_type": "stream",
     "text": [
      "kappa score: 0.5494953667243887  f-1 score: 0.9007499999999999  AUC vlaue: 0.9103408864547284  Final Score: 0.7868620843930391\n"
     ]
    }
   ],
   "source": [
    "import pandas as pd\n",
    "import numpy as np\n",
    "from evaluation import ODIR_Metrics\n",
    "data=pd.read_csv('/disk1/wangjialei/research/odir_main/test.csv')\n",
    "data_gt=pd.read_csv('/disk1/wangjialei/research/odir_main/off_site_test_annotation_(English)_single_for_submit.csv')\n",
    "label_pre=np.zeros(shape=(1000,8))\n",
    "lable_gt=np.zeros(shape=(1000,8))\n",
    "\n",
    "\n",
    "for i in range(len(data)):\n",
    "    row=data.iloc[i]\n",
    "    row_gt=data_gt[data_gt.Image==row[0]]\n",
    "    label_pre[i]=row.iloc[1:]\n",
    "    lable_gt[i]=row_gt.iloc[0,1:]\n",
    "kappa, f1, auc, final_score=ODIR_Metrics(lable_gt,label_pre)\n",
    "print(\"kappa score:\", kappa, \" f-1 score:\", f1, \" AUC vlaue:\", auc, \" Final Score:\", final_score)"
   ]
  },
  {
   "cell_type": "code",
   "execution_count": 2,
   "metadata": {},
   "outputs": [
    {
     "name": "stdout",
     "output_type": "stream",
     "text": [
      "kappa score: 0.5510097739098647  f-1 score: 0.901125  AUC vlaue: 0.9103158498438153  Final Score: 0.7874835412512265\n"
     ]
    }
   ],
   "source": [
    "import pandas as pd\n",
    "import numpy as np\n",
    "from evaluation import  ODIR_Metrics\n",
    "num=4\n",
    "data1=pd.read_csv(f'./odirpred{num}.csv')\n",
    "data2=pd.read_csv(f'./odirtarget{num}.csv')\n",
    "data1=np.array(data1)\n",
    "data2=np.array(data2)\n",
    "kappa, f1, auc, final_score=ODIR_Metrics(data2,data1)\n",
    "print(\"kappa score:\", kappa, \" f-1 score:\", f1, \" AUC vlaue:\", auc, \" Final Score:\", final_score)"
   ]
  },
  {
   "cell_type": "code",
   "execution_count": 4,
   "metadata": {},
   "outputs": [
    {
     "data": {
      "text/plain": [
       "N    324\n",
       "D    327\n",
       "G     58\n",
       "C     65\n",
       "A     49\n",
       "H     30\n",
       "M     46\n",
       "O    275\n",
       "dtype: int64"
      ]
     },
     "execution_count": 4,
     "metadata": {},
     "output_type": "execute_result"
    }
   ],
   "source": [
    "import pandas as pd\n",
    "data=pd.read_csv('/disk1/wangjialei/datasets/OIA-ODIR/On_site_Test_Set/Annotation/on_site_test_annotation_(English).csv')\n",
    "data=data[['N', 'D', 'G', 'C', 'A', 'H', 'M', 'O']]\n",
    "data.sum()"
   ]
  }
 ],
 "metadata": {
  "kernelspec": {
   "display_name": "wangjialei",
   "language": "python",
   "name": "python3"
  },
  "language_info": {
   "codemirror_mode": {
    "name": "ipython",
    "version": 3
   },
   "file_extension": ".py",
   "mimetype": "text/x-python",
   "name": "python",
   "nbconvert_exporter": "python",
   "pygments_lexer": "ipython3",
   "version": "3.8.13"
  },
  "orig_nbformat": 4
 },
 "nbformat": 4,
 "nbformat_minor": 2
}
