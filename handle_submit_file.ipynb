{
 "cells": [
  {
   "cell_type": "code",
   "execution_count": 26,
   "metadata": {},
   "outputs": [],
   "source": [
    "import pandas as pd\n",
    "data=pd.read_csv('./test.csv')"
   ]
  },
  {
   "cell_type": "code",
   "execution_count": 27,
   "metadata": {},
   "outputs": [],
   "source": [
    "index_columns=data.columns"
   ]
  },
  {
   "cell_type": "code",
   "execution_count": 28,
   "metadata": {},
   "outputs": [],
   "source": [
    "names=[]\n",
    "for i in data.iterrows():\n",
    "    name=i[1]['ID'].split('_')[0]\n",
    "    if name not in names:\n",
    "        names.append(name)\n"
   ]
  },
  {
   "cell_type": "code",
   "execution_count": 29,
   "metadata": {},
   "outputs": [],
   "source": [
    "result=pd.DataFrame(columns=index_columns)\n",
    "f = lambda x: x if (isinstance(x, float) and x > 0.5) else 0\n",
    "\n",
    "for id in names:\n",
    "    temp_df=data[data['ID'].str.contains(id,case=False)]\n",
    "    min=temp_df['N'].min()\n",
    "    max=temp_df[['D', 'G', 'C', 'A', 'H', 'M', 'O']].max()\n",
    "    max['N']=min\n",
    "    new_row=pd.Series(max,index=result.columns)\n",
    "    # new_row=new_row.apply(lambda x:f(x) if isinstance(x,(int,float)) else x)\n",
    "    new_row['ID']=id\n",
    "    result=result.append(new_row,ignore_index=True)\n",
    "result['ID']=result['ID'].round().astype(int)"
   ]
  },
  {
   "cell_type": "code",
   "execution_count": 30,
   "metadata": {},
   "outputs": [],
   "source": [
    "result.to_csv('submit.csv',index=False)"
   ]
  }
 ],
 "metadata": {
  "kernelspec": {
   "display_name": "wangjialei",
   "language": "python",
   "name": "python3"
  },
  "language_info": {
   "codemirror_mode": {
    "name": "ipython",
    "version": 3
   },
   "file_extension": ".py",
   "mimetype": "text/x-python",
   "name": "python",
   "nbconvert_exporter": "python",
   "pygments_lexer": "ipython3",
   "version": "3.8.13"
  },
  "orig_nbformat": 4
 },
 "nbformat": 4,
 "nbformat_minor": 2
}
